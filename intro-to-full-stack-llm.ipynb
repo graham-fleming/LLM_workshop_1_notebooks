{
 "cells": [
  {
   "cell_type": "markdown",
   "metadata": {},
   "source": [
    "# Welcome to IndieAGI workshop 1!"
   ]
  },
  {
   "cell_type": "markdown",
   "metadata": {},
   "source": [
    "## By the end of this workshop you will be able to:\n",
    "* Excecute python code in a jupyter notebook\n",
    "* Know the importance of each section of code\n",
    "* Feel more enabled than you were yesterday"
   ]
  },
  {
   "cell_type": "markdown",
   "metadata": {},
   "source": [
    "## Instructions to run code\n",
    "<img src=\"./images/run_cell_instructions.png\" style=\"width: 50%; height: auto;\">\n",
    "\n",
    "1. Click on the code block you want to run. \n",
    "2. Press the play button in the toolbar above to exceute the code.  \n",
    "  \n",
    "(You can also press ```shift+enter``` to run the code block and move to the next one.)  \n",
    "\n",
    "**Task**: Try in on the next cell"
   ]
  },
  {
   "cell_type": "code",
   "execution_count": null,
   "metadata": {},
   "outputs": [],
   "source": [
    "# Install\n",
    "%pip install langchain huggingface_hub\n",
    "\n",
    "\n",
    "# Do you have any questions?\n",
    "# Any feedback if something is making sense or not? \n",
    "# Type below following the \"#\" symbol:\n",
    "#\n",
    "#\n",
    "#"
   ]
  },
  {
   "cell_type": "markdown",
   "metadata": {},
   "source": [
    "## Obtaining Huggingface access token\n",
    "1. Go to https://huggingface.co/settings/token\n",
    "2. Create and login to your account\n",
    "3. Your screen should look something like this at this point:  \n",
    "   <img src=\"./images/new_access_token_page.png\" style=\"width: 50%; height: auto;\">  \n",
    "   <sub> **Troubleshoot**: try entering the exact link above again.</sub>\n",
    "4. Click on \"New token\" button\n",
    "5. Type in a name and select options to look like this:  \n",
    "   <img src=\"./images/access_token_options.png\" style=\"width: 30%; height: auto;\">\n",
    "6. Click generate token\n",
    "7. Copy the token to your clipboard\n",
    "8. Run the below cell of code. You should see an input box appear below the cell looking like this:  \n",
    "   <img src=\"./images/input_box.png\" style=\"width: 30%; height: auto;\">\n",
    "9. Paste the token into the input box and press enter."
   ]
  },
  {
   "cell_type": "code",
   "execution_count": 17,
   "metadata": {},
   "outputs": [],
   "source": [
    "# get your Huggingface access token from https://huggingface.co/settings/tokens 🔑\n",
    "\n",
    "from getpass import getpass\n",
    "import os\n",
    "\n",
    "HUGGINGFACE_API_TOKEN = getpass()\n",
    "os.environ[\"HUGGINGFACE_API_TOKEN\"] = HUGGINGFACE_API_TOKEN\n",
    "\n",
    "\n",
    "\n",
    "# Do you have any questions?\n",
    "# Any feedback if something is making sense or not? \n",
    "# Type below following the \"#\" symbol:\n",
    "#\n",
    "#\n",
    "#"
   ]
  },
  {
   "cell_type": "markdown",
   "metadata": {},
   "source": [
    "**The model we will be using to day is the falcon-7b-instruct model from [Huggingface website](https://huggingface.co/tiiuae/falcon-7b-instruct)**"
   ]
  },
  {
   "cell_type": "code",
   "execution_count": 14,
   "metadata": {},
   "outputs": [],
   "source": [
    "from langchain import HuggingFaceHub\n",
    "\n",
    "repo_id = \"tiiuae/falcon-7b-instruct\"\n",
    "llm = HuggingFaceHub(huggingfacehub_api_token=HUGGINGFACE_API_TOKEN, \n",
    "                     repo_id=repo_id, \n",
    "                     model_kwargs={\"temperature\":0.7, \"max_new_tokens\":700})\n",
    "\n",
    "\n",
    "\n",
    "# Do you have any questions?\n",
    "# Any feedback if something is making sense or not? \n",
    "# Type below following the \"#\" symbol:\n",
    "#\n",
    "#\n",
    "#"
   ]
  },
  {
   "cell_type": "markdown",
   "metadata": {},
   "source": [
    "**Suggestion**: Try changing the prompt ```question = \"How to cook Pizza ?\"``` to some other question and see what answers you get.\n",
    "\n",
    "**Troubleshooting**: verify if the access token has been entered correctly. If that doesn't work, restart the kernel and run all cells again."
   ]
  },
  {
   "cell_type": "code",
   "execution_count": null,
   "metadata": {},
   "outputs": [],
   "source": [
    "from langchain import PromptTemplate, LLMChain\n",
    "template = \"\"\"\n",
    "You are a helpful AI assistant that provides answers to questions politely.\n",
    "\n",
    "{question}\n",
    "Answer: Let's think step by step.\n",
    "\"\"\"\n",
    "prompt = PromptTemplate(template=template, input_variables= [\"question\"])\n",
    "llm_chain = LLMChain(prompt=prompt, llm=llm)\n",
    "\n",
    "question = \"How to cook Pasta?\"\n",
    "\n",
    "print (llm_chain.run(question))\n",
    "\n",
    "\n",
    "\n",
    "\n",
    "# Do you have any questions?\n",
    "# Any feedback if something is making sense or not? \n",
    "# Type below following the \"#\" symbol:\n",
    "#\n",
    "#\n",
    "#\n"
   ]
  },
  {
   "cell_type": "code",
   "execution_count": null,
   "metadata": {},
   "outputs": [],
   "source": []
  }
 ],
 "metadata": {
  "kernelspec": {
   "display_name": "Python 3 (ipykernel)",
   "language": "python",
   "name": "python3"
  },
  "language_info": {
   "codemirror_mode": {
    "name": "ipython",
    "version": 3
   },
   "file_extension": ".py",
   "mimetype": "text/x-python",
   "name": "python",
   "nbconvert_exporter": "python",
   "pygments_lexer": "ipython3",
   "version": "3.9.7"
  }
 },
 "nbformat": 4,
 "nbformat_minor": 2
}
